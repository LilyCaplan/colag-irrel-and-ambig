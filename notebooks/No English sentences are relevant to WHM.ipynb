{
 "cells": [
  {
   "cell_type": "code",
   "execution_count": 1,
   "metadata": {
    "collapsed": true
   },
   "outputs": [],
   "source": [
    "# we need the cell in this code so that we can import modules from the parent directory.\n",
    "import os\n",
    "import sys\n",
    "module_path = os.path.abspath(os.path.join('..'))\n",
    "if module_path not in sys.path:\n",
    "    sys.path.append(module_path)"
   ]
  },
  {
   "cell_type": "code",
   "execution_count": 13,
   "metadata": {
    "collapsed": true
   },
   "outputs": [],
   "source": [
    "# set the size of the plots\n",
    "%matplotlib inline\n",
    "import matplotlib.pyplot as plt\n",
    "plt.rcParams['figure.figsize'] = 10, 5"
   ]
  },
  {
   "cell_type": "code",
   "execution_count": 3,
   "metadata": {
    "collapsed": true
   },
   "outputs": [],
   "source": [
    "from colag.colag import Colag\n",
    "colag = Colag.from_tsvs('../data/COLAG_2011_ids.txt', '../data/irrelevance-output.txt')"
   ]
  },
  {
   "cell_type": "markdown",
   "metadata": {},
   "source": [
    "# English has no sentences \"relevant to\" Wh-movement.\n",
    "\n",
    "That sounds weird, doesn't it? What's up with that?\n",
    "\n",
    "In the graph below, each bar categorizes each of the "
   ]
  },
  {
   "cell_type": "code",
   "execution_count": 4,
   "metadata": {},
   "outputs": [
    {
     "data": {
      "text/plain": [
       "360"
      ]
     },
     "execution_count": 4,
     "metadata": {},
     "output_type": "execute_result"
    }
   ],
   "source": [
    "len(colag.language[611])"
   ]
  },
  {
   "cell_type": "markdown",
   "metadata": {},
   "source": [
    "360 sentences in Colag English (language 611) as either a globally valid trigger for 0 or 1, ambiguous but still relevant to the value-setting of a parameter, or irrelevant to the value-settings of a parameter. The irrelevant sentences are omitted from the graph."
   ]
  },
  {
   "cell_type": "code",
   "execution_count": 5,
   "metadata": {},
   "outputs": [
    {
     "data": {
      "image/png": "[encoded data removed]",
      "text/plain": [
       "<matplotlib.figure.Figure at 0x7f4ecacc6f28>"
      ]
     },
     "metadata": {},
     "output_type": "display_data"
    }
   ],
   "source": [
    "import visualization\n",
    "visualization.plot_trigger_list(colag, 611)"
   ]
  },
  {
   "cell_type": "markdown",
   "metadata": {},
   "source": [
    "# Data Tangent"
   ]
  },
  {
   "cell_type": "markdown",
   "metadata": {},
   "source": [
    "But wait a sec, we just said there are 360 sentences in english, why is the y-axis running up to ~600?"
   ]
  },
  {
   "cell_type": "code",
   "execution_count": 6,
   "metadata": {},
   "outputs": [
    {
     "data": {
      "text/plain": [
       "540"
      ]
     },
     "execution_count": 6,
     "metadata": {},
     "output_type": "execute_result"
    }
   ],
   "source": [
    "len(colag.grammar_irr[611])"
   ]
  },
  {
   "cell_type": "markdown",
   "metadata": {},
   "source": [
    "Huh. \n",
    "\n",
    "``colag.grammar_irr[611]`` is the _list_ of irrelevance strings for all sentences in Colag English.\n",
    "\n",
    "``colag.language[611]`` is the _set_ of all sentences in Colag English.\n",
    "\n",
    "So I think we computed the irrelevance string for every (sentence, parse tree) pair in Colag English. Let's confirm this."
   ]
  },
  {
   "cell_type": "code",
   "execution_count": 7,
   "metadata": {},
   "outputs": [
    {
     "data": {
      "text/html": [
       "<div>\n",
       "<style>\n",
       "    .dataframe thead tr:only-child th {\n",
       "        text-align: right;\n",
       "    }\n",
       "\n",
       "    .dataframe thead th {\n",
       "        text-align: left;\n",
       "    }\n",
       "\n",
       "    .dataframe tbody tr th {\n",
       "        vertical-align: top;\n",
       "    }\n",
       "</style>\n",
       "<table border=\"1\" class=\"dataframe\">\n",
       "  <thead>\n",
       "    <tr style=\"text-align: right;\">\n",
       "      <th></th>\n",
       "      <th>grammar</th>\n",
       "      <th>sentence</th>\n",
       "      <th>tree</th>\n",
       "    </tr>\n",
       "  </thead>\n",
       "  <tbody>\n",
       "    <tr>\n",
       "      <th>0</th>\n",
       "      <td>132</td>\n",
       "      <td>1282</td>\n",
       "      <td>6</td>\n",
       "    </tr>\n",
       "    <tr>\n",
       "      <th>1</th>\n",
       "      <td>132</td>\n",
       "      <td>1282</td>\n",
       "      <td>3375</td>\n",
       "    </tr>\n",
       "  </tbody>\n",
       "</table>\n",
       "</div>"
      ],
      "text/plain": [
       "   grammar  sentence  tree\n",
       "0      132      1282     6\n",
       "1      132      1282  3375"
      ]
     },
     "execution_count": 7,
     "metadata": {},
     "output_type": "execute_result"
    }
   ],
   "source": [
    "import pandas as pd\n",
    "\n",
    "raw_colag = pd.read_csv('../data/COLAG_2011_ids.txt', \n",
    "                        sep='\\t', \n",
    "                        header=None, \n",
    "                        names=['grammar', 'sentence', 'tree'])\n",
    "raw_colag.head(2)"
   ]
  },
  {
   "cell_type": "code",
   "execution_count": 8,
   "metadata": {},
   "outputs": [
    {
     "data": {
      "text/plain": [
       "540"
      ]
     },
     "execution_count": 8,
     "metadata": {},
     "output_type": "execute_result"
    }
   ],
   "source": [
    "# how many rows (grammar, sentence, tree) are there for grammar=611?\n",
    "len(raw_colag[raw_colag.grammar.eq(611)])"
   ]
  },
  {
   "cell_type": "markdown",
   "metadata": {},
   "source": [
    "It checks out.\n",
    "\n",
    "\n",
    "Ok, so how does it look if we collapse across parse trees- only one irrelevance string per sentence."
   ]
  },
  {
   "cell_type": "code",
   "execution_count": 9,
   "metadata": {},
   "outputs": [
    {
     "data": {
      "image/png": "[encoded data removed]",
      "text/plain": [
       "<matplotlib.figure.Figure at 0x7f4ebb6ea9b0>"
      ]
     },
     "metadata": {},
     "output_type": "display_data"
    }
   ],
   "source": [
    "visualization.plot_unique_triggers(colag, 611)"
   ]
  },
  {
   "cell_type": "markdown",
   "metadata": {},
   "source": [
    "Ok... so let's compare the two"
   ]
  },
  {
   "cell_type": "code",
   "execution_count": 69,
   "metadata": {},
   "outputs": [
    {
     "data": {
      "image/png": "[encoded data removed]",
      "text/plain": [
       "<matplotlib.figure.Figure at 0x7f4eb8c9da20>"
      ]
     },
     "metadata": {},
     "output_type": "display_data"
    },
    {
     "data": {
      "image/png": "[encoded data removed]",
      "text/plain": [
       "<matplotlib.figure.Figure at 0x7f4eb920d048>"
      ]
     },
     "metadata": {},
     "output_type": "display_data"
    }
   ],
   "source": [
    "plt.grid(True)\n",
    "visualization.plot_unique_triggers(colag, 611, normed=True)\n",
    "plt.grid(True)\n",
    "visualization.plot_trigger_list(colag, 611, normed=True)"
   ]
  },
  {
   "cell_type": "markdown",
   "metadata": {},
   "source": [
    "# Sampling across Sentences vs (Sent, Struct) tuples"
   ]
  },
  {
   "cell_type": "markdown",
   "metadata": {},
   "source": [
    "I'm not sure what to title the table below, but here's how you read it.\n",
    "\n",
    "Look at the SP column:\n",
    "\n",
    "This columns says that if you were to take a uniform distribution of sentences from the set of **unique (sentence, tree) pairs** rather than the set of **unique sentences**, then compared to sampling from unique sentences you would:\n",
    "\n",
    "- sample 67% as many globally valid triggers\n",
    "- sample 67% as many irrelevant sentences\n",
    "- sample 2.6x as many relevant but ambiguous sentences."
   ]
  },
  {
   "cell_type": "code",
   "execution_count": 72,
   "metadata": {},
   "outputs": [
    {
     "data": {
      "text/html": [
       "<div>\n",
       "<style>\n",
       "    .dataframe thead tr:only-child th {\n",
       "        text-align: right;\n",
       "    }\n",
       "\n",
       "    .dataframe thead th {\n",
       "        text-align: left;\n",
       "    }\n",
       "\n",
       "    .dataframe tbody tr th {\n",
       "        vertical-align: top;\n",
       "    }\n",
       "</style>\n",
       "<table border=\"1\" class=\"dataframe\">\n",
       "  <thead>\n",
       "    <tr style=\"text-align: right;\">\n",
       "      <th></th>\n",
       "      <th>sp</th>\n",
       "      <th>hip</th>\n",
       "      <th>hcp</th>\n",
       "      <th>opt</th>\n",
       "      <th>ns</th>\n",
       "      <th>nt</th>\n",
       "      <th>whm</th>\n",
       "      <th>pi</th>\n",
       "      <th>tm</th>\n",
       "      <th>VtoI</th>\n",
       "      <th>ItoC</th>\n",
       "      <th>ah</th>\n",
       "      <th>QInv</th>\n",
       "    </tr>\n",
       "  </thead>\n",
       "  <tbody>\n",
       "    <tr>\n",
       "      <th>*</th>\n",
       "      <td>2.60</td>\n",
       "      <td>2.00</td>\n",
       "      <td>2.52</td>\n",
       "      <td>2.60</td>\n",
       "      <td>NaN</td>\n",
       "      <td>2.6</td>\n",
       "      <td>NaN</td>\n",
       "      <td>2.67</td>\n",
       "      <td>2.60</td>\n",
       "      <td>1.33</td>\n",
       "      <td>1.16</td>\n",
       "      <td>1.33</td>\n",
       "      <td>0.67</td>\n",
       "    </tr>\n",
       "    <tr>\n",
       "      <th>0</th>\n",
       "      <td>0.67</td>\n",
       "      <td>0.98</td>\n",
       "      <td>0.67</td>\n",
       "      <td>NaN</td>\n",
       "      <td>NaN</td>\n",
       "      <td>NaN</td>\n",
       "      <td>NaN</td>\n",
       "      <td>NaN</td>\n",
       "      <td>0.67</td>\n",
       "      <td>1.33</td>\n",
       "      <td>0.84</td>\n",
       "      <td>NaN</td>\n",
       "      <td>NaN</td>\n",
       "    </tr>\n",
       "    <tr>\n",
       "      <th>1</th>\n",
       "      <td>NaN</td>\n",
       "      <td>NaN</td>\n",
       "      <td>NaN</td>\n",
       "      <td>NaN</td>\n",
       "      <td>NaN</td>\n",
       "      <td>NaN</td>\n",
       "      <td>NaN</td>\n",
       "      <td>0.67</td>\n",
       "      <td>NaN</td>\n",
       "      <td>NaN</td>\n",
       "      <td>NaN</td>\n",
       "      <td>1.33</td>\n",
       "      <td>NaN</td>\n",
       "    </tr>\n",
       "    <tr>\n",
       "      <th>~</th>\n",
       "      <td>0.67</td>\n",
       "      <td>0.92</td>\n",
       "      <td>0.80</td>\n",
       "      <td>0.67</td>\n",
       "      <td>1.0</td>\n",
       "      <td>0.7</td>\n",
       "      <td>1.0</td>\n",
       "      <td>1.02</td>\n",
       "      <td>0.67</td>\n",
       "      <td>0.92</td>\n",
       "      <td>0.67</td>\n",
       "      <td>0.92</td>\n",
       "      <td>1.22</td>\n",
       "    </tr>\n",
       "  </tbody>\n",
       "</table>\n",
       "</div>"
      ],
      "text/plain": [
       "     sp   hip   hcp   opt   ns   nt  whm    pi    tm  VtoI  ItoC    ah  QInv\n",
       "*  2.60  2.00  2.52  2.60  NaN  2.6  NaN  2.67  2.60  1.33  1.16  1.33  0.67\n",
       "0  0.67  0.98  0.67   NaN  NaN  NaN  NaN   NaN  0.67  1.33  0.84   NaN   NaN\n",
       "1   NaN   NaN   NaN   NaN  NaN  NaN  NaN  0.67   NaN   NaN   NaN  1.33   NaN\n",
       "~  0.67  0.92  0.80  0.67  1.0  0.7  1.0  1.02  0.67  0.92  0.67  0.92  1.22"
      ]
     },
     "execution_count": 72,
     "metadata": {},
     "output_type": "execute_result"
    }
   ],
   "source": [
    "from colag.colag import parameters\n",
    "\n",
    "target = 611\n",
    "\n",
    "trigger_list = colag.grammar_irr[target]\n",
    "trigger_list = (pd.DataFrame(list(map(list, trigger_list)))\n",
    "                    .apply(pd.Series.value_counts, axis=0)\n",
    "                    .fillna(0))\n",
    "trigger_list = trigger_list.div(trigger_list.sum())\n",
    "\n",
    "trigger_set = [colag.sentence_irr[s] for s in colag.language[target]]\n",
    "trigger_set = (\n",
    "    pd.DataFrame(list(map(list, trigger_set)))\n",
    "        .apply(pd.Series.value_counts, axis=0)\n",
    "        .fillna(0))\n",
    "trigger_set = trigger_set.div(trigger_set.sum())\n",
    "\n",
    "d = trigger_list.div(trigger_set)\n",
    "\n",
    "d.columns = parameters\n",
    "d.round(2)"
   ]
  },
  {
   "cell_type": "markdown",
   "metadata": {},
   "source": [
    "Ok, so increasing the sentences that have multiple parses (aka have structural ambiguity) increases the amount of ambiguity we see. \n",
    "\n",
    "I guess we didn't learn much. But it's good to think about these two different methods of sampling I guess.\n",
    "\n",
    "## TODO: Which sampling method do our learners use?\n",
    "\n",
    "per sentence or per-(sentence, tree)\n",
    "\n",
    "- NDChild\n",
    "- William VL\n",
    "- Paul VL"
   ]
  },
  {
   "cell_type": "markdown",
   "metadata": {},
   "source": [
    "# Anyway, back to the main point\n",
    "\n",
    "Which was, how do we explain this"
   ]
  },
  {
   "cell_type": "code",
   "execution_count": 71,
   "metadata": {},
   "outputs": [
    {
     "data": {
      "image/png": "[encoded data removed]",
      "text/plain": [
       "<matplotlib.figure.Figure at 0x7f4eb9539e10>"
      ]
     },
     "metadata": {},
     "output_type": "display_data"
    }
   ],
   "source": [
    "import visualization\n",
    "visualization.plot_trigger_list(colag, 611)"
   ]
  },
  {
   "cell_type": "markdown",
   "metadata": {},
   "source": [
    "Which reads like \n",
    "\n",
    "**\"in colag english, all sentences are irrelevant wrt setting the value of the Wh-Movement parameter\"**\n",
    "\n",
    "It seems like it might be related to the fact that there are superset languages of 611 that differ by a single parameter.\n",
    "\n",
    "Given a grammar $g$, and $S^g$, the set of grammars that are supersets of $g$,\n",
    "\n",
    "$ \\forall s \\in S^g $ where $hamming(s, g) = 1$, will be an instance where we'll never see a relevant parameter."
   ]
  },
  {
   "cell_type": "markdown",
   "metadata": {},
   "source": [
    "# A weird idea\n",
    "\n",
    "What if instead of computing these relevance string based on a hamming distance of 1 we did it on 2 or 3 ... ?\n",
    "\n",
    "For the case of 2, we'd say\n",
    "\n",
    "Given a sentence $S$ and a grammar $g$ that generates it, generate the set $G$- all the grammars that are a hamming distance of 2 away from $g$.\n",
    "\n",
    "How many of these grammars does S parse in?\n",
    "\n",
    "$\\frac{\\text{# of grammars in $G$ that parse s}}{G}$\n",
    "\n",
    "What does this mean? Is this a way to find conditioned triggers?"
   ]
  }
 ],
 "metadata": {
  "kernelspec": {
   "display_name": "Python 3",
   "language": "python",
   "name": "python3"
  },
  "language_info": {
   "codemirror_mode": {
    "name": "ipython",
    "version": 3
   },
   "file_extension": ".py",
   "mimetype": "text/x-python",
   "name": "python",
   "nbconvert_exporter": "python",
   "pygments_lexer": "ipython3",
   "version": "3.6.4"
  }
 },
 "nbformat": 4,
 "nbformat_minor": 2
}
