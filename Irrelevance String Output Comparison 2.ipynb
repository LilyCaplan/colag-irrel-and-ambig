{
 "cells": [
  {
   "cell_type": "code",
   "execution_count": 1,
   "metadata": {
    "collapsed": true
   },
   "outputs": [],
   "source": [
    "import numpy as np"
   ]
  },
  {
   "cell_type": "code",
   "execution_count": 2,
   "metadata": {
    "collapsed": true
   },
   "outputs": [],
   "source": [
    "%matplotlib inline\n",
    "from matplotlib import pyplot\n",
    "import pandas as pd\n",
    "pyplot.rcParams['figure.figsize'] = 12, 5\n",
    "\n",
    "paul_output = pd.read_csv('output.txt', sep=' ', header=None)\n",
    "\n",
    "paul_output.columns = ['sid', 'string']\n",
    "paul_output['string'] = paul_output.string.apply(lambda x: x[::-1])\n",
    "\n",
    "william_output = pd.read_csv('./william-code/COLAG_2011_sentID_rel_new.txt', sep='\\t', header=None)\n",
    "william_output.columns = ['sid', 'kind', 'sentence', 'string']"
   ]
  },
  {
   "cell_type": "code",
   "execution_count": 3,
   "metadata": {},
   "outputs": [
    {
     "data": {
      "text/plain": [
       "(48077, 48077)"
      ]
     },
     "execution_count": 3,
     "metadata": {},
     "output_type": "execute_result"
    }
   ],
   "source": [
    "len(paul_output), len(william_output)"
   ]
  },
  {
   "cell_type": "markdown",
   "metadata": {},
   "source": [
    "# Parameter Distribution\n",
    "\n",
    "Comparison between the number of occurances of 0, 1, ~ and * for William and Paul's output."
   ]
  },
  {
   "cell_type": "code",
   "execution_count": 22,
   "metadata": {},
   "outputs": [
    {
     "data": {
      "image/png": "[encoded data removed]",
      "text/plain": [
       "<matplotlib.figure.Figure at 0x7fe406317320>"
      ]
     },
     "metadata": {},
     "output_type": "display_data"
    },
    {
     "data": {
      "image/png": "[encoded data removed]",
      "text/plain": [
       "<matplotlib.figure.Figure at 0x7fe4099230f0>"
      ]
     },
     "metadata": {},
     "output_type": "display_data"
    }
   ],
   "source": [
    "both = william_output.join(paul_output, on='sid', lsuffix='_w', rsuffix='_p')\n",
    "paul_params = (both.string_p\n",
    " .apply(list)\n",
    " .apply(pd.Series)\n",
    ")\n",
    "william_params = (both.string_w\n",
    " .apply(list)\n",
    " .apply(pd.Series)\n",
    ")\n",
    "paul_params.apply(lambda x: x.value_counts()).T.plot.bar(stacked=True, title=\"Paul\")\n",
    "william_params.apply(lambda x: x.value_counts()).T.plot.bar(stacked=True, title=\"William\");"
   ]
  },
  {
   "cell_type": "markdown",
   "metadata": {},
   "source": [
    "# Per-parameter rate of agreement\n",
    "\n",
    "The ratio of the number of times the Paul and William agreed, over the total number of sentences."
   ]
  },
  {
   "cell_type": "code",
   "execution_count": 24,
   "metadata": {},
   "outputs": [
    {
     "data": {
      "image/png": "[encoded data removed]",
      "text/plain": [
       "<matplotlib.figure.Figure at 0x7fe402ce6630>"
      ]
     },
     "metadata": {},
     "output_type": "display_data"
    }
   ],
   "source": [
    "(\n",
    "    paul_params\n",
    "    .eq(william_params)\n",
    "    .sum()\n",
    "    .div(len(william_params))\n",
    "    .plot.bar(title='Rate of agreement between william / paul output')\n",
    ");"
   ]
  },
  {
   "cell_type": "markdown",
   "metadata": {},
   "source": [
    "# Sample of differing irrelevence strings"
   ]
  },
  {
   "cell_type": "code",
   "execution_count": 7,
   "metadata": {},
   "outputs": [
    {
     "ename": "ValueError",
     "evalue": "a must be greater than 0",
     "output_type": "error",
     "traceback": [
      "\u001b[0;31m---------------------------------------------------------------------------\u001b[0m",
      "\u001b[0;31mValueError\u001b[0m                                Traceback (most recent call last)",
      "\u001b[0;32m<ipython-input-7-2bf8ebb0bd99>\u001b[0m in \u001b[0;36m<module>\u001b[0;34m()\u001b[0m\n\u001b[1;32m      1\u001b[0m \u001b[0mdisagree\u001b[0m \u001b[0;34m=\u001b[0m \u001b[0;34m~\u001b[0m\u001b[0mboth\u001b[0m\u001b[0;34m.\u001b[0m\u001b[0mstring_w\u001b[0m\u001b[0;34m.\u001b[0m\u001b[0meq\u001b[0m\u001b[0;34m(\u001b[0m\u001b[0mboth\u001b[0m\u001b[0;34m.\u001b[0m\u001b[0mstring_p\u001b[0m\u001b[0;34m)\u001b[0m\u001b[0;34m\u001b[0m\u001b[0m\n\u001b[0;32m----> 2\u001b[0;31m \u001b[0mboth\u001b[0m\u001b[0;34m[\u001b[0m\u001b[0mdisagree\u001b[0m\u001b[0;34m]\u001b[0m\u001b[0;34m.\u001b[0m\u001b[0msample\u001b[0m\u001b[0;34m(\u001b[0m\u001b[0;36m10\u001b[0m\u001b[0;34m)\u001b[0m\u001b[0;34m[\u001b[0m\u001b[0;34m[\u001b[0m\u001b[0;34m'sentence'\u001b[0m\u001b[0;34m,\u001b[0m \u001b[0;34m'kind'\u001b[0m\u001b[0;34m,\u001b[0m \u001b[0;34m'string_w'\u001b[0m\u001b[0;34m,\u001b[0m \u001b[0;34m'string_p'\u001b[0m\u001b[0;34m]\u001b[0m\u001b[0;34m]\u001b[0m\u001b[0;34m\u001b[0m\u001b[0m\n\u001b[0m",
      "\u001b[0;32m~/.virtualenvs/colag/lib/python3.6/site-packages/pandas/core/generic.py\u001b[0m in \u001b[0;36msample\u001b[0;34m(self, n, frac, replace, weights, random_state, axis)\u001b[0m\n\u001b[1;32m   2787\u001b[0m                              \"provide positive value.\")\n\u001b[1;32m   2788\u001b[0m \u001b[0;34m\u001b[0m\u001b[0m\n\u001b[0;32m-> 2789\u001b[0;31m         \u001b[0mlocs\u001b[0m \u001b[0;34m=\u001b[0m \u001b[0mrs\u001b[0m\u001b[0;34m.\u001b[0m\u001b[0mchoice\u001b[0m\u001b[0;34m(\u001b[0m\u001b[0maxis_length\u001b[0m\u001b[0;34m,\u001b[0m \u001b[0msize\u001b[0m\u001b[0;34m=\u001b[0m\u001b[0mn\u001b[0m\u001b[0;34m,\u001b[0m \u001b[0mreplace\u001b[0m\u001b[0;34m=\u001b[0m\u001b[0mreplace\u001b[0m\u001b[0;34m,\u001b[0m \u001b[0mp\u001b[0m\u001b[0;34m=\u001b[0m\u001b[0mweights\u001b[0m\u001b[0;34m)\u001b[0m\u001b[0;34m\u001b[0m\u001b[0m\n\u001b[0m\u001b[1;32m   2790\u001b[0m         \u001b[0;32mreturn\u001b[0m \u001b[0mself\u001b[0m\u001b[0;34m.\u001b[0m\u001b[0mtake\u001b[0m\u001b[0;34m(\u001b[0m\u001b[0mlocs\u001b[0m\u001b[0;34m,\u001b[0m \u001b[0maxis\u001b[0m\u001b[0;34m=\u001b[0m\u001b[0maxis\u001b[0m\u001b[0;34m,\u001b[0m \u001b[0mis_copy\u001b[0m\u001b[0;34m=\u001b[0m\u001b[0;32mFalse\u001b[0m\u001b[0;34m)\u001b[0m\u001b[0;34m\u001b[0m\u001b[0m\n\u001b[1;32m   2791\u001b[0m \u001b[0;34m\u001b[0m\u001b[0m\n",
      "\u001b[0;32mmtrand.pyx\u001b[0m in \u001b[0;36mmtrand.RandomState.choice (numpy/random/mtrand/mtrand.c:17062)\u001b[0;34m()\u001b[0m\n",
      "\u001b[0;31mValueError\u001b[0m: a must be greater than 0"
     ]
    }
   ],
   "source": [
    "disagree = ~both.string_w.eq(both.string_p)\n",
    "both[disagree].sample(10)[['sentence', 'kind', 'string_w', 'string_p']]"
   ]
  },
  {
   "cell_type": "code",
   "execution_count": null,
   "metadata": {},
   "outputs": [],
   "source": [
    "# load the colag db\n",
    "colag = pd.read_csv('./COLAG_2011_flat_formatted.txt', \n",
    "                    delimiter='\\t', \n",
    "                    header=None, \n",
    "                    names=['gram', 'infl', 'sent'],\n",
    "                    dtype='object')\n",
    "colag['sent'] = colag.sent.str.strip()\n",
    "colag.sample(4)"
   ]
  },
  {
   "cell_type": "markdown",
   "metadata": {},
   "source": [
    "# Manual Test\n",
    "\n",
    "We'll do a manual test for irrelevance / ambiguity on an input for which william and paul disagree:\n",
    "\n",
    "    O3 P S O2 O1[+WH] Never Verb ka"
   ]
  },
  {
   "cell_type": "code",
   "execution_count": null,
   "metadata": {},
   "outputs": [],
   "source": [
    "sentence = 'O3 P S O2 O1[+WH] Never Verb ka'\n",
    "both[both.sentence.eq(sentence)][['string_w', 'string_p']]"
   ]
  },
  {
   "cell_type": "code",
   "execution_count": null,
   "metadata": {},
   "outputs": [],
   "source": [
    "param_cols = colag.gram.apply(list).apply(pd.Series)\n",
    "param_cols.columns = ['P{}'.format(i) for i in np.arange(1, 14)]"
   ]
  },
  {
   "cell_type": "code",
   "execution_count": null,
   "metadata": {},
   "outputs": [],
   "source": [
    "generators = colag[colag.sent.eq(sentence)].gram.values\n",
    "generators"
   ]
  },
  {
   "cell_type": "code",
   "execution_count": null,
   "metadata": {
    "collapsed": true
   },
   "outputs": [],
   "source": [
    "def toggled(param, grammar):\n",
    "    \"\"\" Returns grammar with parameter number `parameter` toggled\n",
    "\n",
    "    >>> gram = int('0100', 2)\n",
    "    >>> t = toggled(3, gram)\n",
    "    >>> \"{0:b}\".format(t)\n",
    "    '1100'\n",
    "    \"\"\"\n",
    "    return grammar ^ (1 << param)\n",
    "\n",
    "def min_pairs(grammar):\n",
    "    return ['{0:013b}'.format(toggled(param, int(grammar, 2)))\n",
    "            for param in range(len(grammar))]"
   ]
  },
  {
   "cell_type": "markdown",
   "metadata": {},
   "source": [
    "## First grammar"
   ]
  },
  {
   "cell_type": "code",
   "execution_count": null,
   "metadata": {},
   "outputs": [],
   "source": [
    "generators[0]"
   ]
  },
  {
   "cell_type": "code",
   "execution_count": null,
   "metadata": {},
   "outputs": [],
   "source": [
    "min_pairs(generators[0])"
   ]
  },
  {
   "cell_type": "code",
   "execution_count": null,
   "metadata": {},
   "outputs": [],
   "source": [
    "[len(colag[colag.gram.eq(g) & colag.sent.eq(sentence)])\n",
    " for g in min_pairs(generators[0])]"
   ]
  },
  {
   "cell_type": "code",
   "execution_count": null,
   "metadata": {},
   "outputs": [],
   "source": [
    "ambiguous = colag[colag.sent.eq(sentence)].gram.apply(list).apply(pd.Series).nunique().gt(1).astype(int)\n",
    "ambiguous.index = reversed(ambiguous.index)\n",
    "ambiguous"
   ]
  },
  {
   "cell_type": "code",
   "execution_count": null,
   "metadata": {},
   "outputs": [],
   "source": [
    "x = {generator: [len(colag[colag.gram.eq(g) & colag.sent.eq(sentence)])\n",
    "                 for g in min_pairs(generator)]\n",
    "     for generator in generators}\n",
    "x"
   ]
  },
  {
   "cell_type": "code",
   "execution_count": null,
   "metadata": {
    "collapsed": true
   },
   "outputs": [],
   "source": [
    "irrel = pd.DataFrame(x).T"
   ]
  },
  {
   "cell_type": "code",
   "execution_count": null,
   "metadata": {},
   "outputs": [],
   "source": [
    "ambiguous + irrel"
   ]
  },
  {
   "cell_type": "markdown",
   "metadata": {},
   "source": [
    "# Another example"
   ]
  },
  {
   "cell_type": "code",
   "execution_count": null,
   "metadata": {},
   "outputs": [],
   "source": [
    "sentence = \"S[+WH][+WA] ka Aux Not Verb O1 O2 P O3\"\n",
    "sentence = \"O3 Aux S Never Verb O1[+WH] O2 P\"\n",
    "generators = colag[colag.sent.eq(sentence)].gram.values\n",
    "generators"
   ]
  },
  {
   "cell_type": "code",
   "execution_count": null,
   "metadata": {},
   "outputs": [],
   "source": [
    "ambiguous = colag[colag.sent.eq(sentence)].gram.apply(list).apply(pd.Series).nunique().gt(1).astype(int)\n",
    "ambiguous.index = reversed(ambiguous.index)\n",
    "ambiguous.pipe(pd.DataFrame).T"
   ]
  },
  {
   "cell_type": "code",
   "execution_count": null,
   "metadata": {},
   "outputs": [],
   "source": [
    "x = {generator: [len(colag[colag.gram.eq(g) & colag.sent.eq(sentence)])\n",
    "                 for g in min_pairs(generator)]\n",
    "     for generator in generators}\n",
    "irrel = pd.DataFrame(x).T"
   ]
  },
  {
   "cell_type": "code",
   "execution_count": null,
   "metadata": {
    "collapsed": true
   },
   "outputs": [],
   "source": [
    "y = irrel.any().astype(int)"
   ]
  },
  {
   "cell_type": "code",
   "execution_count": null,
   "metadata": {
    "collapsed": true
   },
   "outputs": [],
   "source": [
    "y.index = reversed(y.index)"
   ]
  },
  {
   "cell_type": "code",
   "execution_count": null,
   "metadata": {
    "collapsed": true
   },
   "outputs": [],
   "source": [
    "y.astype(str).replace('1', '~')"
   ]
  },
  {
   "cell_type": "code",
   "execution_count": null,
   "metadata": {
    "collapsed": true
   },
   "outputs": [],
   "source": [
    "both[both.sentence.eq(sentence)]"
   ]
  },
  {
   "cell_type": "code",
   "execution_count": null,
   "metadata": {
    "collapsed": true
   },
   "outputs": [],
   "source": [
    "irrel"
   ]
  },
  {
   "cell_type": "markdown",
   "metadata": {},
   "source": [
    "# Finding a tractable manual test case"
   ]
  },
  {
   "cell_type": "code",
   "execution_count": null,
   "metadata": {
    "collapsed": true
   },
   "outputs": [],
   "source": [
    "def num_licensed(sentence):\n",
    "    return len(colag[colag.sent.eq(sentence)])"
   ]
  },
  {
   "cell_type": "code",
   "execution_count": null,
   "metadata": {
    "collapsed": true
   },
   "outputs": [],
   "source": [
    "sample = both[disagree].sample(10)\n",
    "pd.DataFrame([\n",
    "sample.string_p.str.contains('~'), sample.string_p.str.contains('\\*'), sample.sentence.apply(num_licensed)]).T"
   ]
  },
  {
   "cell_type": "code",
   "execution_count": null,
   "metadata": {
    "collapsed": true
   },
   "outputs": [],
   "source": [
    "target = (\n",
    "    both.string_p.str.contains('\\*') \n",
    "    & both.string_p.str.contains('~')\n",
    "    & both.string_p.ne(both.string_w))"
   ]
  },
  {
   "cell_type": "code",
   "execution_count": null,
   "metadata": {
    "collapsed": true
   },
   "outputs": [],
   "source": [
    "both.loc[32425]"
   ]
  },
  {
   "cell_type": "markdown",
   "metadata": {},
   "source": [
    "# Tractable manual test case\n",
    "\n",
    "Paul & William disagree on `O3[+WA] S P O2[+WH] O1 Verb ka`, and only 8 grammars generate it."
   ]
  },
  {
   "cell_type": "code",
   "execution_count": null,
   "metadata": {
    "collapsed": true
   },
   "outputs": [],
   "source": [
    "sentence = 'O3[+WA] S P O2[+WH] O1 Verb ka'\n",
    "generators = colag[colag.sent.eq(sentence)]\n",
    "generators"
   ]
  },
  {
   "cell_type": "code",
   "execution_count": null,
   "metadata": {
    "collapsed": true
   },
   "outputs": [],
   "source": [
    "for gram_num in range(0, 8):\n",
    "    print([len(colag[colag.gram.eq(g) & colag.sent.eq(sentence)])\n",
    "                     for g in min_pairs(generators.iloc[gram_num].gram)])"
   ]
  },
  {
   "cell_type": "code",
   "execution_count": null,
   "metadata": {
    "collapsed": true
   },
   "outputs": [],
   "source": [
    "both[both.sentence.eq(sentence)]"
   ]
  },
  {
   "cell_type": "code",
   "execution_count": null,
   "metadata": {
    "collapsed": true
   },
   "outputs": [],
   "source": [
    "both[target].sample(20).apply(num_licensed)"
   ]
  },
  {
   "cell_type": "markdown",
   "metadata": {},
   "source": [
    "# Disallowed Grammar Set"
   ]
  },
  {
   "cell_type": "code",
   "execution_count": null,
   "metadata": {},
   "outputs": [],
   "source": [
    "william_ng = pd.read_csv('./NG_GrammIDs.txt', header=None)[0]"
   ]
  },
  {
   "cell_type": "code",
   "execution_count": null,
   "metadata": {
    "collapsed": true
   },
   "outputs": [],
   "source": []
  },
  {
   "cell_type": "code",
   "execution_count": null,
   "metadata": {
    "collapsed": true
   },
   "outputs": [],
   "source": [
    "len(range(2**13))"
   ]
  },
  {
   "cell_type": "code",
   "execution_count": null,
   "metadata": {
    "collapsed": true
   },
   "outputs": [],
   "source": [
    "from irrelevate_sentences import read_colag_tsv\n",
    "colag = read_colag_tsv('COLAG_2011_ids.txt')\n",
    "grammars = set([g\n",
    "                for grams in colag.values()\n",
    "                for g in grams])\n",
    "\n",
    "paul_ng = {g for g in range(2**13)\n",
    "           if g not in grammars}\n"
   ]
  },
  {
   "cell_type": "code",
   "execution_count": null,
   "metadata": {
    "collapsed": true
   },
   "outputs": [],
   "source": [
    "paul_ng.difference(william_ng.values)"
   ]
  },
  {
   "cell_type": "code",
   "execution_count": null,
   "metadata": {
    "collapsed": true
   },
   "outputs": [],
   "source": [
    "set(william_ng.values).difference(paul_ng)"
   ]
  }
 ],
 "metadata": {
  "kernelspec": {
   "display_name": "Python 3",
   "language": "python",
   "name": "python3"
  },
  "language_info": {
   "codemirror_mode": {
    "name": "ipython",
    "version": 3
   },
   "file_extension": ".py",
   "mimetype": "text/x-python",
   "name": "python",
   "nbconvert_exporter": "python",
   "pygments_lexer": "ipython3",
   "version": "3.6.3"
  }
 },
 "nbformat": 4,
 "nbformat_minor": 2
}
